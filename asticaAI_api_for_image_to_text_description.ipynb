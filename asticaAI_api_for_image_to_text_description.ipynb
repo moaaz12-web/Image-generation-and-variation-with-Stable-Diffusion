{
  "nbformat": 4,
  "nbformat_minor": 0,
  "metadata": {
    "colab": {
      "provenance": [],
      "authorship_tag": "ABX9TyPaPODZfoUXwGZ+P3IN3ys3",
      "include_colab_link": true
    },
    "kernelspec": {
      "name": "python3",
      "display_name": "Python 3"
    },
    "language_info": {
      "name": "python"
    }
  },
  "cells": [
    {
      "cell_type": "markdown",
      "metadata": {
        "id": "view-in-github",
        "colab_type": "text"
      },
      "source": [
        "<a href=\"https://colab.research.google.com/github/moaaz12-web/Image-generation-and-variation-with-Stable-Diffusion/blob/main/asticaAI_api_for_image_to_text_description.ipynb\" target=\"_parent\"><img src=\"https://colab.research.google.com/assets/colab-badge.svg\" alt=\"Open In Colab\"/></a>"
      ]
    },
    {
      "cell_type": "code",
      "source": [
        "import requests\n",
        "import json\n",
        "import base64\n",
        "import os\n",
        "\n",
        "# API configurations\n",
        "asticaAPI_key = 'YOUR API KEY'\n",
        "asticaAPI_timeout = 25\n",
        "asticaAPI_endpoint = 'https://vision.astica.ai/describe'\n",
        "asticaAPI_modelVersion = '2.1_full'\n",
        "asticaAPI_visionParams = 'gpt,describe,objects,faces'\n",
        "asticaAPI_gpt_prompt = ''\n",
        "asticaAPI_prompt_length = '90'\n",
        "\n",
        "def read_image_from_path(image_path: str) -> str:\n",
        "    \"\"\"\n",
        "    Function to read an image from a local path and return its base64 encoding\n",
        "    \"\"\"\n",
        "    with open(image_path, 'rb') as file:\n",
        "        image_data = file.read()\n",
        "    image_extension = os.path.splitext(image_path)[1]\n",
        "    base64_encoded = base64.b64encode(image_data).decode('utf-8')\n",
        "    return f\"data:image/{image_extension[1:]};base64,{base64_encoded}\"\n",
        "\n",
        "def get_image_caption(image_data: str, asticaAPI_key: str, model_version: str = '2.1_full', vision_params: str = 'gpt,describe,objects,faces', timeout: int = 25):\n",
        "    \"\"\"\n",
        "    Function to interact with Astica VISION API and return the image caption\n",
        "    \"\"\"\n",
        "    asticaAPI_endpoint = 'https://vision.astica.ai/describe'\n",
        "    asticaAPI_payload = {\n",
        "        'tkn': asticaAPI_key,\n",
        "        'modelVersion': model_version,\n",
        "        'visionParams': vision_params,\n",
        "        'input': image_data,\n",
        "    }\n",
        "\n",
        "    try:\n",
        "        response = requests.post(asticaAPI_endpoint, data=json.dumps(asticaAPI_payload), timeout=timeout, headers={'Content-Type': 'application/json'})\n",
        "        response.raise_for_status()  # Raise an exception for HTTP errors\n",
        "\n",
        "        asticaAPI_result = response.json()\n",
        "        caption = asticaAPI_result.get('caption_GPTS', None)\n",
        "        return caption\n",
        "\n",
        "    except requests.exceptions.RequestException as e:\n",
        "        return {'status': 'error', 'error': f'Failed to connect to the API. {str(e)}'}\n",
        "\n",
        "\n"
      ],
      "metadata": {
        "id": "HZexEKQ49C2D"
      },
      "execution_count": null,
      "outputs": []
    },
    {
      "cell_type": "markdown",
      "source": [
        "# SINGLE IMAGE TEST"
      ],
      "metadata": {
        "id": "UqlxWdIt-7f8"
      }
    },
    {
      "cell_type": "code",
      "source": [
        "# Specify the local path to your image\n",
        "image_path = '/content/images/obama.jpg'\n",
        "\n",
        "# Read image from path\n",
        "image_data = read_image_from_path(image_path)\n",
        "\n",
        "# Call API function and store the caption\n",
        "caption = get_image_caption(image_data, asticaAPI_key)\n",
        "\n",
        "# Print the caption\n",
        "print('Caption:', caption)"
      ],
      "metadata": {
        "id": "V25_SEqK-MPI",
        "colab": {
          "base_uri": "https://localhost:8080/"
        },
        "outputId": "44fe62b6-9cc9-4ef8-82ad-63f9341a9e4c"
      },
      "execution_count": null,
      "outputs": [
        {
          "output_type": "stream",
          "name": "stdout",
          "text": [
            "Caption: The image showcases a mature man, approximately 56 years old, with a confident stance. He is wearing a professional suit, which is perfectly complemented by a well-tied tie. The man's arms are crossed, suggesting an air of authority or seriousness. His facial features are clear and evidently masculine. The man takes up a significant portion of the image, with his form filling most of the frame from top to bottom and side to side. The tie, a notable accessory, is clearly visible against the backdrop of his suit. The combination of his attire, age, and body language suggests this could be a corporate or professional setting.\n"
          ]
        }
      ]
    },
    {
      "cell_type": "code",
      "source": [],
      "metadata": {
        "id": "mopOCR975BMk"
      },
      "execution_count": null,
      "outputs": []
    },
    {
      "cell_type": "code",
      "source": [],
      "metadata": {
        "id": "lLfa-WeR5tvI"
      },
      "execution_count": null,
      "outputs": []
    },
    {
      "cell_type": "code",
      "source": [],
      "metadata": {
        "id": "RcSxw5cm5BH5"
      },
      "execution_count": null,
      "outputs": []
    },
    {
      "cell_type": "markdown",
      "source": [
        "# FOLDER CONTAINING MULTIPLE IMAGES TESTING"
      ],
      "metadata": {
        "id": "117dJqeF5S7I"
      }
    },
    {
      "cell_type": "code",
      "source": [
        "import os\n",
        "\n",
        "def process_images_in_folder(folder_path: str, asticaAPI_key: str):\n",
        "    \"\"\"\n",
        "    Function to process images in a folder, get captions, and create text files in a \"CAPTIONS\" folder\n",
        "    \"\"\"\n",
        "    captions_folder = os.path.join(folder_path, \"CAPTIONS\")\n",
        "    os.makedirs(captions_folder, exist_ok=True)\n",
        "\n",
        "    for filename in os.listdir(folder_path):\n",
        "        if filename.lower().endswith(('.png', '.jpg', '.jpeg', '.webp')):\n",
        "            image_path = os.path.join(folder_path, filename)\n",
        "\n",
        "            # Read image from path\n",
        "            image_data = read_image_from_path(image_path)\n",
        "\n",
        "            # Get image caption\n",
        "            caption = get_image_caption(image_data, asticaAPI_key)\n",
        "\n",
        "            # Create a text file with the caption\n",
        "            txt_filename = os.path.splitext(filename)[0] + \"_caption.txt\"\n",
        "            txt_filepath = os.path.join(captions_folder, txt_filename)\n",
        "\n",
        "            with open(txt_filepath, \"w\") as txt_file:\n",
        "                txt_file.write(str(caption))\n",
        "\n",
        "# Specify the folder path containing images\n",
        "image_folder_path = '/content/images'\n",
        "\n",
        "# Call the function to process images in the folder\n",
        "process_images_in_folder(image_folder_path, asticaAPI_key)\n"
      ],
      "metadata": {
        "id": "YNY6OCDo9oKi"
      },
      "execution_count": null,
      "outputs": []
    },
    {
      "cell_type": "code",
      "source": [],
      "metadata": {
        "id": "K_dMh70Sb9RX"
      },
      "execution_count": null,
      "outputs": []
    },
    {
      "cell_type": "code",
      "source": [
        "import requests\n",
        "import json\n",
        "import base64\n",
        "import os\n",
        "\n",
        "def generate_image_caption(image_path: str) -> str:\n",
        "    \"\"\"\n",
        "    Function to generate an image caption using Astica VISION API\n",
        "    \"\"\"\n",
        "    asticaAPI_key = 'YOUR API KEY'\n",
        "    asticaAPI_timeout = 25\n",
        "    asticaAPI_endpoint = 'https://vision.astica.ai/describe'\n",
        "    asticaAPI_modelVersion = '2.1_full'\n",
        "    asticaAPI_visionParams = 'gpt,describe,objects,faces'\n",
        "    asticaAPI_gpt_prompt = ''\n",
        "    asticaAPI_prompt_length = '90'\n",
        "\n",
        "    def read_image_from_path(image_path: str) -> str:\n",
        "        with open(image_path, 'rb') as file:\n",
        "            image_data = file.read()\n",
        "        image_extension = os.path.splitext(image_path)[1]\n",
        "        base64_encoded = base64.b64encode(image_data).decode('utf-8')\n",
        "        return f\"data:image/{image_extension[1:]};base64,{base64_encoded}\"\n",
        "\n",
        "    def get_image_caption(image_data: str, timeout: int = 25) -> str:\n",
        "        asticaAPI_payload = {\n",
        "            'tkn': asticaAPI_key,\n",
        "            'modelVersion': asticaAPI_modelVersion,\n",
        "            'visionParams': asticaAPI_visionParams,\n",
        "            'input': image_data,\n",
        "        }\n",
        "\n",
        "        try:\n",
        "            response = requests.post(asticaAPI_endpoint, data=json.dumps(asticaAPI_payload),\n",
        "                                     timeout=timeout, headers={'Content-Type': 'application/json'})\n",
        "            response.raise_for_status()  # Raise an exception for HTTP errors\n",
        "\n",
        "            asticaAPI_result = response.json()\n",
        "            caption = asticaAPI_result.get('caption_GPTS', None)\n",
        "            return caption\n",
        "\n",
        "        except requests.exceptions.RequestException as e:\n",
        "            return f'Failed to connect to the API. {str(e)}'\n",
        "\n",
        "    # Main logic\n",
        "    image_data = read_image_from_path(image_path)\n",
        "    caption = get_image_caption(image_data)\n",
        "    return caption\n"
      ],
      "metadata": {
        "id": "ZNzj_HsIb9NN"
      },
      "execution_count": null,
      "outputs": []
    },
    {
      "cell_type": "code",
      "source": [
        "print(generate_image_caption('/content/photo_girl.jpg'))"
      ],
      "metadata": {
        "colab": {
          "base_uri": "https://localhost:8080/"
        },
        "id": "W5t2iFOzzeJX",
        "outputId": "e8a8f5fa-6eb0-4246-933e-604cf7a0ad9c"
      },
      "execution_count": null,
      "outputs": [
        {
          "output_type": "stream",
          "name": "stdout",
          "text": [
            "This is an image of a young woman, likely around the age of 25, standing outdoors on a hill. She has her arms crossed, and her posture seems confident and determined. The woman appears to be the main subject of the photo, occupying the majority of the frame. Her facial features are clearly visible, indicating that she is indeed female. The vastness of the hill combined with her stance makes this picture an intriguing blend of the natural landscape and a human element. The high-resolution image provides a clear view of the woman and her surroundings.\n"
          ]
        }
      ]
    },
    {
      "cell_type": "code",
      "source": [],
      "metadata": {
        "id": "KXrkgnBpzhZQ"
      },
      "execution_count": null,
      "outputs": []
    }
  ]
}